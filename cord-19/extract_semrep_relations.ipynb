{
 "cells": [
  {
   "cell_type": "markdown",
   "metadata": {},
   "source": [
    "# Extract semantic relations from SemRep files"
   ]
  },
  {
   "cell_type": "code",
   "execution_count": 29,
   "metadata": {},
   "outputs": [],
   "source": [
    "import os\n",
    "import json\n",
    "import pandas as pd\n",
    "import numpy as np\n",
    "\n",
    "from tqdm import tqdm\n",
    "from pathlib import Path\n",
    "from semrep import SemRep\n",
    "from utils import *\n",
    "\n",
    "SEMREP_DIR = './data/CORD-19/2020-09-09/CORD-19.SemRep'\n",
    "JSON_DIR = './data/json'\n",
    "METADATA_FILE = './data/cord-19/2020-08-29/metadata.csv'\n",
    "OUTPUT_FILE = './data/semrep_relations_cord_19.tsv'\n",
    "CONSTRAINTS = '/home/andrej/Documents/git/lbd-covid/preprocessing/constraints.json'"
   ]
  },
  {
   "cell_type": "markdown",
   "metadata": {},
   "source": [
    "## Process files"
   ]
  },
  {
   "cell_type": "code",
   "execution_count": 27,
   "metadata": {
    "tags": []
   },
   "outputs": [
    {
     "name": "stderr",
     "output_type": "stream",
     "text": [
      "100%|██████████| 227712/227712 [52:20<00:00, 72.50it/s]  \n"
     ]
    }
   ],
   "source": [
    "input_dir = SEMREP_DIR\n",
    "output_dir = JSON_DIR\n",
    "Path(output_dir).mkdir(parents=True, exist_ok=True)\n",
    "files = os.listdir(input_dir)\n",
    "\n",
    "for infile in tqdm(files):\n",
    "    input_file = os.path.join(input_dir, infile)\n",
    "    output_file = os.path.join(output_dir, infile.split(os.extsep, 1)[0] + '.json')\n",
    "    with open(output_file, 'w') as file:\n",
    "        semrep = SemRep(input_file)\n",
    "        file.write(json.dumps(semrep.extraction(), indent=4))"
   ]
  },
  {
   "cell_type": "code",
   "execution_count": 28,
   "metadata": {
    "tags": []
   },
   "outputs": [
    {
     "name": "stderr",
     "output_type": "stream",
     "text": [
      "100%|██████████| 227712/227712 [29:20<00:00, 129.32it/s] \n"
     ]
    }
   ],
   "source": [
    "input_dir = JSON_DIR\n",
    "files = os.listdir(input_dir)\n",
    "all_relations = []\n",
    "\n",
    "for infile in tqdm(files):\n",
    "    input_file = os.path.join(input_dir, infile)\n",
    "    with open(input_file) as file:\n",
    "        doc = json.loads(file.read())\n",
    "        for key, value in doc.items():\n",
    "            tuple_relations = [(rel['subject_cui'], rel['subject_label'], rel['subject_sem_type'], rel['subject_geneid'], rel['predicate'].upper(), \\\n",
    "                rel['object_cui'], rel['object_label'], rel['object_sem_type'], rel['object_geneid'], rel['sent_id'], rel['sent_text']) if rel['negation'] == ''\n",
    "                else (rel['subject_cui'], rel['subject_label'], rel['subject_sem_type'], rel['subject_geneid'], 'NEG_' + rel['predicate'].upper(), \\\n",
    "                rel['object_cui'], rel['object_label'], rel['object_sem_type'], rel['object_geneid'], rel['sent_id'], rel['sent_text']) for rel in value]\n",
    "        all_relations.append({'cord_uid':key, 'relations':tuple_relations})"
   ]
  },
  {
   "cell_type": "code",
   "execution_count": 30,
   "metadata": {},
   "outputs": [],
   "source": [
    "# Read GENERIC_CONCEPT CUIs\n",
    "with open(CONSTRAINTS) as fh:\n",
    "    data = json.load(fh)\n",
    "    \n",
    "allow_lst = data['generic_concepts']\n",
    "\n",
    "# Combine relations\n",
    "relations = []\n",
    "for path in all_relations:\n",
    "    cord_uid = path['cord_uid']\n",
    "    relation = path['relations']\n",
    "    for r in relation:\n",
    "        relations.append((cord_uid,\n",
    "                          r[0], r[1], r[2], r[3], is_novel(r[0], allow_lst),\n",
    "                          r[4],\n",
    "                          r[5], r[6], r[7], r[8], is_novel(r[5], allow_lst), r[9], r[10]))"
   ]
  },
  {
   "cell_type": "code",
   "execution_count": 31,
   "metadata": {},
   "outputs": [],
   "source": [
    "# Build data frame\n",
    "df = pd.DataFrame(relations, columns=['cord_uid', 'subject_cui', 'subject_label', 'subject_sem_type', \\\n",
    "    'subject_geneid', 'subject_novelty', 'predicate', 'object_cui', 'object_label', 'object_sem_type', \\\n",
    "    'object_geneid', 'object_novelty', 'sent_id', 'sent_text'])"
   ]
  },
  {
   "cell_type": "code",
   "execution_count": 32,
   "metadata": {},
   "outputs": [
    {
     "name": "stderr",
     "output_type": "stream",
     "text": [
      "/home/andrej/Documents/python38/lib/python3.8/site-packages/IPython/core/interactiveshell.py:3050: DtypeWarning: Columns (1,4,5,6,13,14,15,16) have mixed types.Specify dtype option on import or set low_memory=False.\n",
      "  has_raised = await self.run_ast_nodes(code_ast.body, cell_name,\n"
     ]
    }
   ],
   "source": [
    "# Read metadata.csv file\n",
    "metadata = pd.read_csv(METADATA_FILE)\n",
    "\n",
    "# Drop duplicate rows in metadata file\n",
    "metadata = metadata.drop_duplicates(subset=['cord_uid'])\n",
    "\n",
    "# Merge both data frames\n",
    "df = pd.merge(df, metadata[['cord_uid','pubmed_id','publish_time']], how='left', on='cord_uid')"
   ]
  },
  {
   "cell_type": "code",
   "execution_count": 33,
   "metadata": {},
   "outputs": [],
   "source": [
    "df.replace('', np.nan, inplace=True)\n",
    "\n",
    "# Modify PMID and Pub year\n",
    "df['pubmed_id'] = df['pubmed_id'].astype(\"Float32\").astype(\"Int32\")\n",
    "df['publish_time'] = pd.to_datetime(df['publish_time'], format='%Y-%m-%d').dt.strftime('%Y')\n",
    "\n",
    "# Concatenate CUI and gene ID's\n",
    "df['subject_cui'] = df['subject_cui'].str.cat(df['subject_geneid'], na_rep='', sep='|').str.strip('|').str.replace(',', '|', regex=False)\n",
    "df['object_cui'] = df['object_cui'].str.cat(df['object_geneid'], na_rep='', sep='|').str.strip('|').str.replace(',', '|', regex=False)\n",
    "\n",
    "# Filter by concept's novelty\n",
    "df = df[(df['subject_novelty'] == 1) & (df['object_novelty'] == 1)]\n",
    "\n",
    "# Select fields\n",
    "df = df[['subject_cui', 'subject_label', 'subject_sem_type', 'predicate', 'object_cui', 'object_label', \\\n",
    "    'object_sem_type', 'publish_time', 'pubmed_id', 'sent_id', 'sent_text']]\n",
    "\n",
    "# Export to tsv file\n",
    "df.to_csv(OUTPUT_FILE, sep='\\t', header=False, index=False)"
   ]
  },
  {
   "cell_type": "code",
   "execution_count": null,
   "metadata": {},
   "outputs": [],
   "source": []
  }
 ],
 "metadata": {
  "kernelspec": {
   "display_name": "Python 3",
   "language": "python",
   "name": "python3"
  },
  "language_info": {
   "codemirror_mode": {
    "name": "ipython",
    "version": 3
   },
   "file_extension": ".py",
   "mimetype": "text/x-python",
   "name": "python",
   "nbconvert_exporter": "python",
   "pygments_lexer": "ipython3",
   "version": "3.8.5"
  }
 },
 "nbformat": 4,
 "nbformat_minor": 4
}
