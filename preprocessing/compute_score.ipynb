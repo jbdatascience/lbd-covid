{
 "cells": [
  {
   "cell_type": "markdown",
   "metadata": {},
   "source": [
    "# Compute final score"
   ]
  },
  {
   "cell_type": "code",
   "execution_count": 1,
   "metadata": {},
   "outputs": [],
   "source": [
    "import pandas as pd\n",
    "from sklearn import preprocessing"
   ]
  },
  {
   "cell_type": "code",
   "execution_count": 2,
   "metadata": {},
   "outputs": [],
   "source": [
    "df = pd.read_csv('./data/stats.txt', sep='<>| ', header=None, skiprows=1,\n",
    "                 names=['sub', 'rel', 'obj', 'rank', 'stat', 'f012',\n",
    "                        'f0', 'f1', 'f2', 'f01', 'f02', 'f12'], engine='python')"
   ]
  },
  {
   "cell_type": "code",
   "execution_count": 3,
   "metadata": {},
   "outputs": [],
   "source": [
    "deg = pd.read_csv('./data/concept_degree.txt', sep=' ', header=None, names=['cui', 'deg'])\n",
    "cui2deg = dict(zip(deg['cui'], deg['deg']))"
   ]
  },
  {
   "cell_type": "code",
   "execution_count": 4,
   "metadata": {},
   "outputs": [],
   "source": [
    "def lookup(cui):\n",
    "    return cui2deg[cui]\n",
    "\n",
    "df['sub_deg'] = df.apply(lambda row: lookup(row['sub']), axis=1)\n",
    "df['obj_deg'] = df.apply(lambda row: lookup(row['obj']), axis=1)"
   ]
  },
  {
   "cell_type": "code",
   "execution_count": 5,
   "metadata": {},
   "outputs": [],
   "source": [
    "names = ['stat', 'sub_deg', 'obj_deg']\n",
    "x = df[names].values\n",
    "min_max_scaler = preprocessing.MinMaxScaler()\n",
    "x_norm = min_max_scaler.fit_transform(x)\n",
    "df_temp = pd.DataFrame(x_norm, columns=names, index = df.index)\n",
    "df[['stat_norm', 'sub_deg_norm', 'obj_deg_norm']] = df_temp\n",
    "df['score'] = df['stat_norm'] + df['sub_deg_norm'] + df['obj_deg_norm']"
   ]
  },
  {
   "cell_type": "code",
   "execution_count": 6,
   "metadata": {},
   "outputs": [],
   "source": [
    "df.to_csv('./data/sub_rel_obj_freq_score.tsv', sep='\\t', header=None, columns=['sub', 'rel', 'obj', 'f012', 'score'],\n",
    "          index=False, float_format='%.15f')"
   ]
  }
 ],
 "metadata": {
  "kernelspec": {
   "display_name": "Python 3",
   "language": "python",
   "name": "python3"
  },
  "language_info": {
   "codemirror_mode": {
    "name": "ipython",
    "version": 3
   },
   "file_extension": ".py",
   "mimetype": "text/x-python",
   "name": "python",
   "nbconvert_exporter": "python",
   "pygments_lexer": "ipython3",
   "version": "3.8.5"
  }
 },
 "nbformat": 4,
 "nbformat_minor": 4
}
