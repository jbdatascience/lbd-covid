{
 "cells": [
  {
   "cell_type": "markdown",
   "metadata": {},
   "source": [
    "# Extract semantic relations from SemRep files"
   ]
  },
  {
   "cell_type": "code",
   "execution_count": null,
   "metadata": {
    "execution": {
     "iopub.execute_input": "2020-10-06T07:34:00.476963Z",
     "iopub.status.busy": "2020-10-06T07:34:00.476547Z",
     "iopub.status.idle": "2020-10-06T07:34:00.688499Z",
     "shell.execute_reply": "2020-10-06T07:34:00.688802Z"
    }
   },
   "outputs": [],
   "source": [
    "import os\n",
    "import json\n",
    "import pandas as pd\n",
    "import numpy as np\n",
    "import logging\n",
    "import urllib, sys\n",
    "import urllib.parse\n",
    "\n",
    "from tqdm import tqdm\n",
    "from pathlib import Path\n",
    "from semrep import SemRep\n",
    "from utils import *\n",
    "\n",
    "from lxml import etree, objectify\n",
    "from datetime import datetime\n",
    "from urllib.request import urlopen\n",
    "\n",
    "logging.basicConfig(format='%(levelname)s: %(message)s', level=logging.DEBUG)\n",
    "\n",
    "SEMREP_DIR = './data/CORD-19/2020-09-28/CORD-19.SemRep'\n",
    "JSON_DIR = './data/json'\n",
    "METADATA_FILE = './data/cord-19/2020-09-25/metadata2.csv'\n",
    "CONSTRAINTS = './conf/constraints.json'\n",
    "OUTPUT_FILE = './data/CORD-19/2020-09-28/sub_rel_obj_pyear_edat_pmid_sent_id_sent.tsv.gz'"
   ]
  },
  {
   "cell_type": "markdown",
   "metadata": {},
   "source": [
    "## Process files"
   ]
  },
  {
   "cell_type": "code",
   "execution_count": null,
   "metadata": {
    "execution": {
     "iopub.execute_input": "2020-10-06T07:34:00.692410Z",
     "iopub.status.busy": "2020-10-06T07:34:00.691928Z",
     "iopub.status.idle": "2020-10-06T07:35:13.543630Z",
     "shell.execute_reply": "2020-10-06T07:35:13.543267Z"
    },
    "tags": []
   },
   "outputs": [],
   "source": [
    "logging.info('Parse SemRep files...')\n",
    "\n",
    "input_dir = SEMREP_DIR\n",
    "output_dir = JSON_DIR\n",
    "Path(output_dir).mkdir(parents=True, exist_ok=True)\n",
    "files = os.listdir(input_dir)\n",
    "\n",
    "for infile in tqdm(files):\n",
    "    input_file = os.path.join(input_dir, infile)\n",
    "    output_file = os.path.join(output_dir, infile.split(os.extsep, 1)[0] + '.json')\n",
    "    with open(output_file, 'w') as file:\n",
    "        semrep = SemRep(input_file)\n",
    "        file.write(json.dumps(semrep.extraction(), indent=4))"
   ]
  },
  {
   "cell_type": "code",
   "execution_count": null,
   "metadata": {
    "execution": {
     "iopub.execute_input": "2020-10-06T07:35:13.547830Z",
     "iopub.status.busy": "2020-10-06T07:35:13.547477Z",
     "iopub.status.idle": "2020-10-06T07:35:23.164406Z",
     "shell.execute_reply": "2020-10-06T07:35:23.164687Z"
    },
    "tags": []
   },
   "outputs": [],
   "source": [
    "logging.info('Write JSON files...')\n",
    "\n",
    "input_dir = JSON_DIR\n",
    "files = os.listdir(input_dir)\n",
    "all_relations = []\n",
    "\n",
    "for infile in tqdm(files):\n",
    "    input_file = os.path.join(input_dir, infile)\n",
    "    with open(input_file) as file:\n",
    "        doc = json.loads(file.read())\n",
    "        for key, value in doc.items():\n",
    "            tuple_relations = [(rel['subject_cui'], rel['subject_label'], rel['subject_sem_type'], rel['subject_geneid'], rel['predicate'].upper(), \\\n",
    "                rel['object_cui'], rel['object_label'], rel['object_sem_type'], rel['object_geneid'], rel['sent_id'], rel['sent_text']) if rel['negation'] == ''\n",
    "                else (rel['subject_cui'], rel['subject_label'], rel['subject_sem_type'], rel['subject_geneid'], 'NEG_' + rel['predicate'].upper(), \\\n",
    "                rel['object_cui'], rel['object_label'], rel['object_sem_type'], rel['object_geneid'], rel['sent_id'], rel['sent_text']) for rel in value]\n",
    "        all_relations.append({'cord_uid':key, 'relations':tuple_relations})"
   ]
  },
  {
   "cell_type": "code",
   "execution_count": null,
   "metadata": {
    "execution": {
     "iopub.execute_input": "2020-10-06T07:35:23.168047Z",
     "iopub.status.busy": "2020-10-06T07:35:23.167686Z",
     "iopub.status.idle": "2020-10-06T07:35:27.979948Z",
     "shell.execute_reply": "2020-10-06T07:35:27.980237Z"
    }
   },
   "outputs": [],
   "source": [
    "logging.info('Create relations...')\n",
    "\n",
    "# Read GENERIC_CONCEPT CUIs\n",
    "with open(CONSTRAINTS) as fh:\n",
    "    data = json.load(fh)\n",
    "    \n",
    "allow_lst = data['generic_concepts']\n",
    "\n",
    "# Combine relations\n",
    "relations = []\n",
    "for path in all_relations:\n",
    "    cord_uid = path['cord_uid']\n",
    "    relation = path['relations']\n",
    "    for r in relation:\n",
    "        relations.append((cord_uid,\n",
    "                          r[0], r[1], r[2], r[3], is_novel(r[0], allow_lst),\n",
    "                          r[4],\n",
    "                          r[5], r[6], r[7], r[8], is_novel(r[5], allow_lst), r[9], r[10]))"
   ]
  },
  {
   "cell_type": "code",
   "execution_count": null,
   "metadata": {
    "execution": {
     "iopub.execute_input": "2020-10-06T07:35:27.982816Z",
     "iopub.status.busy": "2020-10-06T07:35:27.982441Z",
     "iopub.status.idle": "2020-10-06T07:35:29.277744Z",
     "shell.execute_reply": "2020-10-06T07:35:29.277386Z"
    }
   },
   "outputs": [],
   "source": [
    "logging.info('Create data frame...')\n",
    "\n",
    "# Build data frame\n",
    "df = pd.DataFrame(relations, columns=['cord_uid', 'subject_cui', 'subject_label', 'subject_sem_type', \\\n",
    "    'subject_geneid', 'subject_novelty', 'predicate', 'object_cui', 'object_label', 'object_sem_type', \\\n",
    "    'object_geneid', 'object_novelty', 'sent_id', 'sent_text'])"
   ]
  },
  {
   "cell_type": "code",
   "execution_count": null,
   "metadata": {
    "execution": {
     "iopub.execute_input": "2020-10-06T07:35:29.280650Z",
     "iopub.status.busy": "2020-10-06T07:35:29.280262Z",
     "iopub.status.idle": "2020-10-06T07:35:31.785585Z",
     "shell.execute_reply": "2020-10-06T07:35:31.785185Z"
    }
   },
   "outputs": [],
   "source": [
    "logging.info('Read and merge metadata file...')\n",
    "\n",
    "# Read metadata.csv file\n",
    "metadata = pd.read_csv(METADATA_FILE, usecols=['cord_uid', 'pubmed_id', 'publish_time'],\n",
    "                       dtype={'cord_uid': 'str', 'pubmed_id': 'str', 'publish_time': 'str'},\n",
    "                       parse_dates=['publish_time'], low_memory=False)\n",
    "\n",
    "# Drop duplicate rows in metadata file\n",
    "metadata = metadata.drop_duplicates(subset=['cord_uid'])\n",
    "\n",
    "# Merge both data frames\n",
    "##df = pd.merge(df, metadata[['cord_uid','pubmed_id','publish_time']], how='left', on='cord_uid')\n",
    "df = pd.merge(df, metadata, how='left', on='cord_uid')"
   ]
  },
  {
   "cell_type": "code",
   "execution_count": null,
   "metadata": {
    "execution": {
     "iopub.execute_input": "2020-10-06T07:35:31.789389Z",
     "iopub.status.busy": "2020-10-06T07:35:31.789031Z",
     "iopub.status.idle": "2020-10-06T07:35:39.161497Z",
     "shell.execute_reply": "2020-10-06T07:35:39.161156Z"
    }
   },
   "outputs": [],
   "source": [
    "logging.info('Modify data frame...')\n",
    "\n",
    "df.replace('', np.nan, inplace=True)\n",
    "\n",
    "# Modify Pub year\n",
    "df['publish_year'] = pd.to_datetime(df['publish_time'], format='%Y-%m-%d').dt.strftime('%Y')\n",
    "df['publish_time'] = pd.to_datetime(df['publish_time'], format='%Y-%m-%d').dt.strftime('%Y-%m-%d')\n",
    "\n",
    "# Concatenate CUI and gene ID's\n",
    "df['subject_cui'] = df['subject_cui'].str.cat(df['subject_geneid'], na_rep='', sep='|').str.strip('|').str.replace(',', '|', regex=False)\n",
    "df['object_cui'] = df['object_cui'].str.cat(df['object_geneid'], na_rep='', sep='|').str.strip('|').str.replace(',', '|', regex=False)\n",
    "\n",
    "# Filter by concept's novelty\n",
    "df = df[(df['subject_novelty'] == 1) & (df['object_novelty'] == 1)]\n",
    "\n",
    "# Select fields\n",
    "df = df[['subject_cui', 'subject_label', 'subject_sem_type', 'predicate', 'object_cui', 'object_label', \\\n",
    "    'object_sem_type', 'publish_year', 'publish_time', 'pubmed_id', 'sent_id', 'sent_text']]"
   ]
  },
  {
   "cell_type": "code",
   "execution_count": null,
   "metadata": {
    "execution": {
     "iopub.execute_input": "2020-10-06T07:35:39.183008Z",
     "iopub.status.busy": "2020-10-06T07:35:39.182625Z",
     "iopub.status.idle": "2020-10-06T07:35:39.232704Z",
     "shell.execute_reply": "2020-10-06T07:35:39.232363Z"
    }
   },
   "outputs": [],
   "source": [
    "# Prepare PMIDs for retrieving EDATs\n",
    "pmids = df['pubmed_id'].dropna().unique().tolist()\n",
    "pmids = [str(x) for x in pmids]"
   ]
  },
  {
   "cell_type": "code",
   "execution_count": null,
   "metadata": {
    "execution": {
     "iopub.execute_input": "2020-10-06T07:35:39.237449Z",
     "iopub.status.busy": "2020-10-06T07:35:39.236996Z",
     "iopub.status.idle": "2020-10-06T08:11:01.880969Z",
     "shell.execute_reply": "2020-10-06T08:11:01.881251Z"
    }
   },
   "outputs": [],
   "source": [
    "logging.info('Retrieva data from NCI server...')\n",
    "\n",
    "# Retrieve EDATs from NCBI server\n",
    "# Store in file for potential later use\n",
    "fh = open('pmids.txt', 'w')\n",
    "\n",
    "def chunker(seq, size):\n",
    "    return (seq[pos:pos + size] for pos in range(0, len(seq), size))\n",
    "\n",
    "for group in tqdm(chunker(pmids, 300)):\n",
    "    efetch = \"https://eutils.ncbi.nlm.nih.gov/entrez/eutils/efetch.fcgi?&db=pubmed&retmode=xml&id=%s\" % (','.join(group))\n",
    "    handle = urlopen(efetch)\n",
    "    p = etree.XMLParser(remove_blank_text=True, resolve_entities=False)\n",
    "    root = etree.parse(handle, p).getroot()\n",
    "\n",
    "    for i in range(len(root)):\n",
    "        try:\n",
    "            pmid = root[i].xpath(\".//PMID/text()\")[0]\n",
    "            date = root[i].xpath(\".//PubMedPubDate[@PubStatus='pubmed']\")[0]\n",
    "            year = date.xpath('./Year/text()')[0]\n",
    "            month = date.xpath('./Month/text()')[0]\n",
    "            day = date.xpath('./Day/text()')[0]\n",
    "            edat = datetime.strptime('-'.join([year,month,day]), '%Y-%m-%d').strftime('%Y-%m-%d')\n",
    "            fh.write(pmid + '\\t' + edat + '\\n')\n",
    "        except:\n",
    "            pass\n",
    "\n",
    "fh.close()"
   ]
  },
  {
   "cell_type": "code",
   "execution_count": null,
   "metadata": {
    "execution": {
     "iopub.execute_input": "2020-10-06T08:11:01.884336Z",
     "iopub.status.busy": "2020-10-06T08:11:01.883964Z",
     "iopub.status.idle": "2020-10-06T08:11:01.936413Z",
     "shell.execute_reply": "2020-10-06T08:11:01.936700Z"
    }
   },
   "outputs": [],
   "source": [
    "# Read stored PMIDs with EDATs\n",
    "pmid_df = pd.read_csv('./pmids.txt', sep='\\t', header=None, names=['pmid', 'edat'],\n",
    "                     dtype={'pmid': 'str', 'edat': 'str'})\n",
    "pmid2edat = dict(zip(pmid_df.pmid, pmid_df.edat))"
   ]
  },
  {
   "cell_type": "code",
   "execution_count": null,
   "metadata": {
    "execution": {
     "iopub.execute_input": "2020-10-06T08:11:01.939799Z",
     "iopub.status.busy": "2020-10-06T08:11:01.939434Z",
     "iopub.status.idle": "2020-10-06T08:11:14.971829Z",
     "shell.execute_reply": "2020-10-06T08:11:14.971461Z"
    }
   },
   "outputs": [],
   "source": [
    "logging.info('Update data frame with EDAT data...')\n",
    "\n",
    "# Update data frame with proper dates\n",
    "def convert(pmid, edat):\n",
    "    if pmid in pmid2edat:\n",
    "        return pmid2edat[pmid]\n",
    "    else:\n",
    "        return edat\n",
    "    \n",
    "df['publish_time'] = df.apply(lambda row: convert(row['pubmed_id'], row['publish_time']), axis=1)\n",
    "df.to_csv(OUTPUT_FILE, sep='\\t', header=False, index=False, compression='gzip')"
   ]
  }
 ],
 "metadata": {
  "kernelspec": {
   "display_name": "Python 3",
   "language": "python",
   "name": "python3"
  },
  "language_info": {
   "codemirror_mode": {
    "name": "ipython",
    "version": 3
   },
   "file_extension": ".py",
   "mimetype": "text/x-python",
   "name": "python",
   "nbconvert_exporter": "python",
   "pygments_lexer": "ipython3",
   "version": "3.8.5"
  }
 },
 "nbformat": 4,
 "nbformat_minor": 4
}
